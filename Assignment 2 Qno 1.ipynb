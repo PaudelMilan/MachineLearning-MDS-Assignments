{
 "cells": [
  {
   "cell_type": "markdown",
   "id": "7f6b5c2c",
   "metadata": {},
   "source": [
    "Write a program in python using scikit learn to train Logistic Regression that predicts quantitative measure of progression driven by various attributes on diabetics dataset.\n"
   ]
  },
  {
   "cell_type": "code",
   "execution_count": 1,
   "id": "51f615ba",
   "metadata": {},
   "outputs": [],
   "source": [
    "#Importing needed libraries/modules\n",
    "import pandas as pd \n",
    "import numpy as np\n",
    "from sklearn.linear_model import LogisticRegression\n",
    "from sklearn.model_selection import train_test_split\n",
    "from sklearn.metrics import accuracy_score, classification_report\n",
    "\n",
    "#Loading data as dataframe\n",
    "filePath = \"E:\\Milan\\MDS\\machine learning\\Dataset\\diabetes.xlsx\"\n",
    "data = pd.read_excel(filePath)\n",
    "data = pd.DataFrame(data)\n",
    "\n",
    "#Getting independent variable and normalizing the values\n",
    "X = data.iloc[:, 0:10]\n",
    "X = (X- X.mean())/X.std()\n",
    "\n",
    "#Getting dependent value and taking 140 as border between diabetes i.e class label of classifier model\n",
    "y = data.iloc[:, 10]\n",
    "z = np.where(y >= 140, 1, 0)\n",
    "data['z'] = z\n"
   ]
  },
  {
   "cell_type": "code",
   "execution_count": 2,
   "id": "6850d324",
   "metadata": {},
   "outputs": [],
   "source": [
    "#train test data split\n",
    "X_train, X_test, y_train, y_test = train_test_split(X, z, test_size = 0.3, random_state = 18)"
   ]
  },
  {
   "cell_type": "code",
   "execution_count": 3,
   "id": "fa7e895b",
   "metadata": {
    "scrolled": false
   },
   "outputs": [],
   "source": [
    "#fitting logistic regression and predicting the values\n",
    "LR = LogisticRegression(max_iter= 100000, class_weight=\"balanced\")\n",
    "LR.fit(X_train,y_train)\n",
    "predicted = LR.predict(X_test)\n"
   ]
  },
  {
   "cell_type": "code",
   "execution_count": 4,
   "id": "403fcd39",
   "metadata": {},
   "outputs": [
    {
     "data": {
      "text/plain": [
       "0.706766917293233"
      ]
     },
     "execution_count": 4,
     "metadata": {},
     "output_type": "execute_result"
    }
   ],
   "source": [
    "#finding accuracy of the model with test data\n",
    "accuracy_score(y_test, predicted)"
   ]
  },
  {
   "cell_type": "code",
   "execution_count": 5,
   "id": "46c0ab08",
   "metadata": {},
   "outputs": [
    {
     "name": "stdout",
     "output_type": "stream",
     "text": [
      "              precision    recall  f1-score   support\n",
      "\n",
      "           0       0.74      0.61      0.67        64\n",
      "           1       0.69      0.80      0.74        69\n",
      "\n",
      "    accuracy                           0.71       133\n",
      "   macro avg       0.71      0.70      0.70       133\n",
      "weighted avg       0.71      0.71      0.70       133\n",
      "\n"
     ]
    }
   ],
   "source": [
    "#getting fit paraeters of classiffication for test data\n",
    "print(classification_report(y_test, predicted))"
   ]
  },
  {
   "cell_type": "code",
   "execution_count": 6,
   "id": "be5831cd",
   "metadata": {},
   "outputs": [
    {
     "data": {
      "text/plain": [
       "0.7669902912621359"
      ]
     },
     "execution_count": 6,
     "metadata": {},
     "output_type": "execute_result"
    }
   ],
   "source": [
    "#getting accuracy score for train data\n",
    "predicted2 = LR.predict(X_train)\n",
    "accuracy_score(y_train, predicted2)"
   ]
  },
  {
   "cell_type": "code",
   "execution_count": 7,
   "id": "69e42a7b",
   "metadata": {},
   "outputs": [
    {
     "name": "stdout",
     "output_type": "stream",
     "text": [
      "              precision    recall  f1-score   support\n",
      "\n",
      "           0       0.77      0.75      0.76       155\n",
      "           1       0.76      0.78      0.77       154\n",
      "\n",
      "    accuracy                           0.77       309\n",
      "   macro avg       0.77      0.77      0.77       309\n",
      "weighted avg       0.77      0.77      0.77       309\n",
      "\n"
     ]
    }
   ],
   "source": [
    "print(classification_report(y_train, predicted2))"
   ]
  }
 ],
 "metadata": {
  "kernelspec": {
   "display_name": "Python 3 (ipykernel)",
   "language": "python",
   "name": "python3"
  },
  "language_info": {
   "codemirror_mode": {
    "name": "ipython",
    "version": 3
   },
   "file_extension": ".py",
   "mimetype": "text/x-python",
   "name": "python",
   "nbconvert_exporter": "python",
   "pygments_lexer": "ipython3",
   "version": "3.9.13"
  }
 },
 "nbformat": 4,
 "nbformat_minor": 5
}
