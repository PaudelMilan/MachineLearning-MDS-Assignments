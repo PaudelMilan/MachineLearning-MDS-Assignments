{
 "cells": [
  {
   "cell_type": "markdown",
   "id": "a09d93f1",
   "metadata": {},
   "source": [
    "Implement Stacking ensemble method in the questions no. 3 and train the meta learner for prediction. "
   ]
  },
  {
   "cell_type": "code",
   "execution_count": 1,
   "id": "9529c1fc",
   "metadata": {},
   "outputs": [],
   "source": [
    "import pandas as pd\n",
    "import numpy as np\n",
    "from sklearn.model_selection import train_test_split\n",
    "from sklearn.linear_model import LogisticRegression\n",
    "from sklearn.metrics import accuracy_score, classification_report, f1_score\n",
    "from sklearn.svm import SVC\n",
    "from sklearn.naive_bayes import MultinomialNB\n",
    "from sklearn.neighbors import KNeighborsClassifier\n",
    "from sklearn.tree import DecisionTreeClassifier"
   ]
  },
  {
   "cell_type": "code",
   "execution_count": 2,
   "id": "ccdac243",
   "metadata": {},
   "outputs": [],
   "source": [
    "def letsgo(file_path):\n",
    "    data = pd.read_csv(file_path)   #reading csv file\n",
    "    data = pd.DataFrame(data)        #inserting data into data frame\n",
    "    a = 0.3                  #proportion of test data \n",
    "    b = 18                  #random state\n",
    "    \n",
    "    x = data.iloc[:,range(data.shape[1]-1)]      #x is data containing all rows and all columns except for quality\n",
    "    xCopy = x.copy()\n",
    "    y = data.iloc[:,data.shape[1]-1]             #y is data containing all rows and one column with quality of wine\n",
    "    \n",
    "    x = (x - np.mean(x, axis = 0))/np.std(x)     #normalizing data\n",
    "    \n",
    "    x_train, x_test, y_train, y_test = train_test_split(x, y, test_size = a, random_state = b)   #train test split\n",
    "    \n",
    "    #logistic regression with maximum iteration of 10000 for multinomial and tolerance of 1*10**(-15) \n",
    "    lr = LogisticRegression(max_iter = 10000, multi_class= \"multinomial\", solver= \"saga\", tol = 1e-15)\n",
    "    lr.fit(x_train,y_train)\n",
    "    report = lr.predict(x_test)\n",
    "    \n",
    "    #support vector with biase of 3 and tolerance of 1*10**(-15)\n",
    "    svc = SVC(C= 3, kernel=\"rbf\", tol= 1e-10)\n",
    "    svc.fit(x_train,y_train)\n",
    "    report1 = svc.predict(x_test)\n",
    "    \n",
    "    #using non normalized data on naive bayes classifier due to issue with negative data\n",
    "    x_train2, x_test2, y_train2, y_test2 = train_test_split(xCopy, y, test_size = a, random_state = b)\n",
    "    nv = MultinomialNB()\n",
    "    nv.fit(x_train2,y_train2)\n",
    "    report2 = nv.predict(x_test2)\n",
    "    \n",
    "    #knn classifier with l1 distance calculator\n",
    "    knn = KNeighborsClassifier(p = 1)\n",
    "    knn.fit(x_train,y_train)\n",
    "    report3 = knn.predict(x_test)\n",
    "    \n",
    "    #data frame containing predicted value of all above classifier\n",
    "    df = pd.DataFrame({'Logistic': report, 'SVC': report1, 'Naive Bayes': report2,  \"KNN\":report3})\n",
    "\n",
    "    return df, y_test"
   ]
  },
  {
   "cell_type": "code",
   "execution_count": 3,
   "id": "15c15b93",
   "metadata": {},
   "outputs": [],
   "source": [
    "def model(file_path):\n",
    "    output = letsgo(file_path)  #getting tuple of dataframe containing predictions of different models and y_test data\n",
    "    tree = DecisionTreeClassifier()\n",
    "    tree.fit(output[0],output[1])    #fit the dataframe containing predictions of different models and y_test data\n",
    "    report4 = tree.predict(output[0])   #getting prediction after ensemble stacking method\n",
    "    print(\"\\n\\nDecission Tree Classifier:\\n\\n\")\n",
    "    print(\"Classification Report on test data:\\n\",classification_report(output[1], report4, zero_division = 0),\"\\n\\nAccuracy:\\n\",accuracy_score(output[1], report4))\n",
    "    print(\"-------------------------------------------------------------------------------------------\")   "
   ]
  },
  {
   "cell_type": "code",
   "execution_count": 4,
   "id": "6628b400",
   "metadata": {},
   "outputs": [
    {
     "name": "stdout",
     "output_type": "stream",
     "text": [
      "\n",
      "\n",
      "Decission Tree Classifier:\n",
      "\n",
      "\n",
      "Classification Report on test data:\n",
      "               precision    recall  f1-score   support\n",
      "\n",
      "           3       1.00      0.33      0.50         3\n",
      "           4       0.50      0.06      0.11        17\n",
      "           5       0.63      0.82      0.72       195\n",
      "           6       0.66      0.61      0.64       199\n",
      "           7       0.75      0.47      0.58        64\n",
      "           8       0.00      0.00      0.00         2\n",
      "\n",
      "    accuracy                           0.65       480\n",
      "   macro avg       0.59      0.38      0.42       480\n",
      "weighted avg       0.66      0.65      0.64       480\n",
      " \n",
      "\n",
      "Accuracy:\n",
      " 0.6541666666666667\n",
      "-------------------------------------------------------------------------------------------\n"
     ]
    },
    {
     "name": "stderr",
     "output_type": "stream",
     "text": [
      "E:\\anacondaMDS\\lib\\site-packages\\sklearn\\neighbors\\_classification.py:228: FutureWarning: Unlike other reduction functions (e.g. `skew`, `kurtosis`), the default behavior of `mode` typically preserves the axis it acts along. In SciPy 1.11.0, this behavior will change: the default value of `keepdims` will become False, the `axis` over which the statistic is taken will be eliminated, and the value None will no longer be accepted. Set `keepdims` to True or False to avoid this warning.\n",
      "  mode, _ = stats.mode(_y[neigh_ind, k], axis=1)\n"
     ]
    }
   ],
   "source": [
    "model(file_path = \"E:\\Milan\\MDS\\machine learning\\Dataset\\wine+quality\\winequality-red.csv\")"
   ]
  },
  {
   "cell_type": "code",
   "execution_count": 5,
   "id": "fb95aa9c",
   "metadata": {},
   "outputs": [
    {
     "name": "stdout",
     "output_type": "stream",
     "text": [
      "\n",
      "\n",
      "Decission Tree Classifier:\n",
      "\n",
      "\n",
      "Classification Report on test data:\n",
      "               precision    recall  f1-score   support\n",
      "\n",
      "           3       0.60      0.38      0.46         8\n",
      "           4       0.80      0.21      0.33        38\n",
      "           5       0.67      0.61      0.64       425\n",
      "           6       0.62      0.78      0.69       683\n",
      "           7       0.62      0.45      0.52       265\n",
      "           8       0.69      0.22      0.33        50\n",
      "           9       0.00      0.00      0.00         1\n",
      "\n",
      "    accuracy                           0.63      1470\n",
      "   macro avg       0.57      0.38      0.43      1470\n",
      "weighted avg       0.64      0.63      0.62      1470\n",
      " \n",
      "\n",
      "Accuracy:\n",
      " 0.6346938775510204\n",
      "-------------------------------------------------------------------------------------------\n"
     ]
    },
    {
     "name": "stderr",
     "output_type": "stream",
     "text": [
      "E:\\anacondaMDS\\lib\\site-packages\\sklearn\\neighbors\\_classification.py:228: FutureWarning: Unlike other reduction functions (e.g. `skew`, `kurtosis`), the default behavior of `mode` typically preserves the axis it acts along. In SciPy 1.11.0, this behavior will change: the default value of `keepdims` will become False, the `axis` over which the statistic is taken will be eliminated, and the value None will no longer be accepted. Set `keepdims` to True or False to avoid this warning.\n",
      "  mode, _ = stats.mode(_y[neigh_ind, k], axis=1)\n"
     ]
    }
   ],
   "source": [
    "file_path = \"E:\\Milan\\MDS\\machine learning\\Dataset\\wine+quality\\winequality-white.csv\"\n",
    "model(file_path)"
   ]
  },
  {
   "cell_type": "code",
   "execution_count": null,
   "id": "c9e5b1e2",
   "metadata": {},
   "outputs": [],
   "source": []
  }
 ],
 "metadata": {
  "kernelspec": {
   "display_name": "Python 3 (ipykernel)",
   "language": "python",
   "name": "python3"
  },
  "language_info": {
   "codemirror_mode": {
    "name": "ipython",
    "version": 3
   },
   "file_extension": ".py",
   "mimetype": "text/x-python",
   "name": "python",
   "nbconvert_exporter": "python",
   "pygments_lexer": "ipython3",
   "version": "3.9.13"
  }
 },
 "nbformat": 4,
 "nbformat_minor": 5
}
